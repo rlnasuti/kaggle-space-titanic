{
 "cells": [
  {
   "cell_type": "code",
   "execution_count": 1,
   "metadata": {},
   "outputs": [],
   "source": [
    "import pandas as pd"
   ]
  },
  {
   "cell_type": "code",
   "execution_count": 3,
   "metadata": {},
   "outputs": [],
   "source": [
    "# Load data\n",
    "train_data = pd.read_csv(\"data/train.csv\")"
   ]
  },
  {
   "cell_type": "code",
   "execution_count": 14,
   "metadata": {},
   "outputs": [
    {
     "name": "stdout",
     "output_type": "stream",
     "text": [
      "PassengerId       0\n",
      "HomePlanet      201\n",
      "CryoSleep       217\n",
      "Cabin           199\n",
      "Destination     182\n",
      "Age             179\n",
      "VIP             203\n",
      "RoomService     181\n",
      "FoodCourt       183\n",
      "ShoppingMall    208\n",
      "Spa             183\n",
      "VRDeck          188\n",
      "Name            200\n",
      "Transported       0\n",
      "dtype: int64\n",
      "['Europa' 'Earth' 'Mars' nan]\n",
      "Europa survival rate:  0.6588456123885327\n"
     ]
    }
   ],
   "source": [
    "# Explore data\n",
    "missing_values = train_data.isnull().sum()\n",
    "print(missing_values)\n"
   ]
  },
  {
   "cell_type": "code",
   "execution_count": 42,
   "metadata": {},
   "outputs": [
    {
     "name": "stdout",
     "output_type": "stream",
     "text": [
      "Cryo survival rate:  0.8175831412578202\n"
     ]
    }
   ],
   "source": [
    "# Rate by Cryo\n",
    "cryo_transported = train_data.loc[train_data.CryoSleep == True][\"Transported\"]\n",
    "print(\"Cryo survival rate: \", sum(cryo_transported)/len(cryo_transported))"
   ]
  },
  {
   "cell_type": "code",
   "execution_count": 24,
   "metadata": {},
   "outputs": [
    {
     "name": "stdout",
     "output_type": "stream",
     "text": [
      "Europa survival rate:  0.65884561238855\n",
      "Earth survival rate:  0.42394611038678837\n",
      "Mars survival rate:  0.5230244457077885\n",
      "nan survival rate:  0.5124378109452736\n"
     ]
    }
   ],
   "source": [
    "# Rate by home planet\n",
    "homeplanet_transported = train_data.loc[train_data.HomePlanet == \"Europa\"][\"Transported\"]\n",
    "print(\"Europa survival rate: \", sum(homeplanet_transported)/len(homeplanet_transported))\n",
    "\n",
    "homeplanet_transported = train_data.loc[train_data.HomePlanet == \"Earth\"][\"Transported\"]\n",
    "print(\"Earth survival rate: \", sum(homeplanet_transported)/len(homeplanet_transported))\n",
    "\n",
    "homeplanet_transported = train_data.loc[train_data.HomePlanet == \"Mars\"][\"Transported\"]\n",
    "print(\"Mars survival rate: \", sum(homeplanet_transported)/len(homeplanet_transported))\n",
    "\n",
    "homeplanet_transported = train_data.loc[train_data.HomePlanet.isnull()][\"Transported\"]\n",
    "print(\"nan survival rate: \", sum(homeplanet_transported)/len(homeplanet_transported))"
   ]
  },
  {
   "cell_type": "code",
   "execution_count": null,
   "metadata": {},
   "outputs": [],
   "source": [
    "# Potential Feature Engineering -  Cabin\n",
    "# Split the \"Cabin\" column into three separate columns\n",
    "cabin_split = train_data[\"Cabin\"].str.split(\"/\", expand=True)\n",
    "\n",
    "# Rename the columns\n",
    "cabin_split.columns = [\"CabinDeck\", \"CabinNum\", \"CabinSide\"]\n",
    "\n",
    "# Replace the \"Cabin\" column with the new columns\n",
    "train_data = pd.concat([train_data.drop(\"Cabin\", axis=1), cabin_split], axis=1)"
   ]
  },
  {
   "cell_type": "code",
   "execution_count": 50,
   "metadata": {},
   "outputs": [
    {
     "name": "stdout",
     "output_type": "stream",
     "text": [
      "Cabin sides:  ['P' 'S' nan]\n",
      "Cabin decks:  ['B' 'F' 'A' 'G' nan 'E' 'D' 'C' 'T']\n",
      "Cabin nums:  ['0' '1' '2' ... '1892' '1893' '1894']\n"
     ]
    }
   ],
   "source": [
    "print(\"Cabin sides: \", train_data[\"CabinSide\"].unique())\n",
    "print(\"Cabin decks: \", train_data[\"CabinDeck\"].unique())\n",
    "print(\"Cabin nums: \", train_data[\"CabinNum\"].unique())"
   ]
  },
  {
   "cell_type": "code",
   "execution_count": 62,
   "metadata": {},
   "outputs": [
    {
     "name": "stdout",
     "output_type": "stream",
     "text": [
      "P side transported rate:  0.4512601046124584\n",
      "S side transported rate:  0.5550373134328358\n",
      "Deck B transported rate:  0.7342747111681643\n",
      "Deck F transported rate:  0.43987115246957764\n",
      "Deck A transported rate:  0.49609375\n",
      "Deck G transported rate:  0.5162172723720203\n",
      "Deck E transported rate:  0.3573059360730594\n",
      "Deck D transported rate:  0.4330543933054393\n",
      "Deck C transported rate:  0.6800535475234271\n",
      "Deck T transported rate:  0.2\n"
     ]
    }
   ],
   "source": [
    "# Explore Cabin\n",
    "cabinside_P_transported = train_data.loc[train_data.CabinSide == \"P\"][\"Transported\"]\n",
    "print(\"P side transported rate: \", sum(cabinside_P_transported)/len(cabinside_P_transported))\n",
    "\n",
    "cabinside_S_transported = train_data.loc[train_data.CabinSide == \"S\"][\"Transported\"]\n",
    "print(\"S side transported rate: \", sum(cabinside_S_transported)/len(cabinside_S_transported))\n",
    "\n",
    "for deck in train_data[\"CabinDeck\"].unique():\n",
    "    if pd.isna(deck):\n",
    "        continue\n",
    "    deck_transported = train_data.loc[train_data.CabinDeck == deck][\"Transported\"]\n",
    "    print(f\"Deck {deck} transported rate: \", sum(deck_transported)/len(deck_transported))\n"
   ]
  },
  {
   "cell_type": "code",
   "execution_count": 64,
   "metadata": {},
   "outputs": [
    {
     "name": "stdout",
     "output_type": "stream",
     "text": [
      "['TRAPPIST-1e' 'PSO J318.5-22' '55 Cancri e' nan]\n"
     ]
    }
   ],
   "source": [
    "# Explore Destination\n",
    "print(train_data[\"Destination\"].unique())"
   ]
  },
  {
   "cell_type": "code",
   "execution_count": 67,
   "metadata": {},
   "outputs": [
    {
     "name": "stdout",
     "output_type": "stream",
     "text": [
      "Destination TRAPPIST-1e transported rate:  0.47117497886728654\n",
      "Destination PSO J318.5-22 transported rate:  0.5037688442211056\n",
      "Destination 55 Cancri e transported rate:  0.61\n"
     ]
    }
   ],
   "source": [
    "# Explore transport rate by destination\n",
    "for destination in train_data[\"Destination\"].unique():\n",
    "    if pd.isna(destination):\n",
    "        continue\n",
    "    destination_transported = train_data.loc[train_data.Destination == destination][\"Transported\"]\n",
    "    print(f\"Destination {destination} transported rate: \", sum(destination_transported)/len(destination_transported))"
   ]
  },
  {
   "cell_type": "code",
   "execution_count": 101,
   "metadata": {},
   "outputs": [
    {
     "name": "stdout",
     "output_type": "stream",
     "text": [
      "Age less than 15 transported rate:  0.6483870967741936\n",
      "Number of 0's 0\n"
     ]
    }
   ],
   "source": [
    "# Explore age\n",
    "age_to_check = 15\n",
    "age_transported = train_data.loc[train_data.Age <= age_to_check][\"Transported\"]\n",
    "print(f\"Age less than {age_to_check} transported rate: \", sum(age_transported)/len(age_transported))\n",
    "print(f\"Number of 1000's\", len(train_data[train_data.Age == 1000]))"
   ]
  },
  {
   "cell_type": "code",
   "execution_count": 99,
   "metadata": {},
   "outputs": [
    {
     "name": "stdout",
     "output_type": "stream",
     "text": [
      "VIP survival rate:  0.38190954773869346\n"
     ]
    }
   ],
   "source": [
    "# Explore VIP\n",
    "# Rate by Cryo\n",
    "VIP_transported = train_data.loc[train_data.VIP == True][\"Transported\"]\n",
    "print(\"VIP survival rate: \", sum(VIP_transported)/len(VIP_transported))"
   ]
  },
  {
   "cell_type": "code",
   "execution_count": null,
   "metadata": {},
   "outputs": [],
   "source": [
    "# Explore Room Service"
   ]
  }
 ],
 "metadata": {
  "kernelspec": {
   "display_name": "venv-spaceship-titanic",
   "language": "python",
   "name": "python3"
  },
  "language_info": {
   "codemirror_mode": {
    "name": "ipython",
    "version": 3
   },
   "file_extension": ".py",
   "mimetype": "text/x-python",
   "name": "python",
   "nbconvert_exporter": "python",
   "pygments_lexer": "ipython3",
   "version": "3.11.2"
  },
  "orig_nbformat": 4
 },
 "nbformat": 4,
 "nbformat_minor": 2
}
